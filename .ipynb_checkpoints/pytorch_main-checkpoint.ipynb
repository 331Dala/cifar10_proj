{
 "cells": [
  {
   "cell_type": "code",
   "execution_count": 8,
   "id": "3072e50a-03d0-42f3-b8e4-ff3c57d3bcc6",
   "metadata": {},
   "outputs": [],
   "source": [
    "import numpy as np\n",
    "from PIL import Image\n",
    "\n",
    "import torch\n",
    "import torch.nn as nn\n",
    "import torch.nn.functional as F\n",
    "import torch.optim as optim\n",
    "\n",
    "import torchvision\n",
    "import torchvision.transforms as transforms"
   ]
  },
  {
   "cell_type": "code",
   "execution_count": 9,
   "id": "38522ce3-991f-4c16-a5d0-9c61ceb41318",
   "metadata": {},
   "outputs": [],
   "source": [
    "transform = transforms.Compose([\n",
    "    transforms.ToTensor(),\n",
    "    transforms.Normalize((0.5, 0.5, 0.5), (0.5, 0.5, 0.5))\n",
    "])"
   ]
  },
  {
   "cell_type": "code",
   "execution_count": 10,
   "id": "2d99750a-ca42-4291-8cf7-bd8b6150062c",
   "metadata": {},
   "outputs": [],
   "source": [
    "train_data = torchvision.datasets.CIFAR10(root='./data', train=True, transform=transform, download=True)\n",
    "test_data = torchvision.datasets.CIFAR10(root='./data', train=False, transform=transform, download=True)\n",
    "\n",
    "train_loader = torch.utils.data.DataLoader(train_data, batch_size=32, shuffle=True, num_workers=2)\n",
    "test_loader = torch.utils.data.DataLoader(test_data, batch_size=32, shuffle=True, num_workers=2)"
   ]
  },
  {
   "cell_type": "code",
   "execution_count": 11,
   "id": "98250c71-08c2-48e5-afe1-04a7a761ad66",
   "metadata": {},
   "outputs": [],
   "source": [
    "image, label = train_data[0]"
   ]
  },
  {
   "cell_type": "code",
   "execution_count": 12,
   "id": "d6301b1e-1b64-4f74-97cb-53f1be735d89",
   "metadata": {},
   "outputs": [
    {
     "data": {
      "text/plain": [
       "torch.Size([3, 32, 32])"
      ]
     },
     "execution_count": 12,
     "metadata": {},
     "output_type": "execute_result"
    }
   ],
   "source": [
    "image.size()"
   ]
  },
  {
   "cell_type": "code",
   "execution_count": 13,
   "id": "88bfc203-884d-42f5-8464-062036f56f8c",
   "metadata": {},
   "outputs": [],
   "source": [
    "class_names = ['plane', 'car', 'bird', 'cat', 'deer', 'dog', 'frog', 'horse', 'ship', 'truck']"
   ]
  },
  {
   "cell_type": "code",
   "execution_count": 14,
   "id": "9aef3d50-7492-4e11-8101-73de9f272f2a",
   "metadata": {},
   "outputs": [],
   "source": [
    "class NeuralNet(nn.Module):\n",
    "    def __init__(self):\n",
    "        super().__init__()\n",
    "        \n",
    "        self.conv1 = nn.Conv2d(3, 12, 5) # (inputSize-kernelSize)/KernelMoveStride+1 == (32-5)/1+1=28 after convolutional we get (12channelOrFeatureMap, 28pixels, 28pixels)\n",
    "        self.pool = nn.MaxPool2d(2, 2) # 2*2 area create 1 pixel leave us (12, 14, 14)\n",
    "        self.conv2 = nn.Conv2d(12, 24, 5) # (14-5)/1+1 we get (24, 10, 10) -> (24,5,5) -> Flatten(24*5*5)\n",
    "        self.fc1 = nn.Linear(24 * 5 * 5, 120)\n",
    "        self.fc2 = nn.Linear(120, 84)\n",
    "        self.fc3 = nn.Linear(84, 10)\n",
    "\n",
    "    def forward(self, x):\n",
    "        \"\"\"apply above init layer onto the input\"\"\"\n",
    "        x = self.pool(F.relu(self.conv1(x)))\n",
    "        x = self.pool(F.relu(self.conv2(x)))\n",
    "        x = torch.flatten(x, 1)\n",
    "        x = F.relu(self.fc1(x))\n",
    "        x = F.relu(self.fc2(x))\n",
    "        x = self.fc3(x)\n",
    "        return x\n",
    "        "
   ]
  },
  {
   "cell_type": "code",
   "execution_count": 15,
   "id": "ad1f865f-d939-4bee-939b-a45ee4b58902",
   "metadata": {},
   "outputs": [],
   "source": [
    "net = NeuralNet()\n",
    "loos_founction = nn.CrossEntropyLoss()\n",
    "optimizer = optim.SGD(net.parameters(), lr=0.001, momentum=0.9)"
   ]
  },
  {
   "cell_type": "code",
   "execution_count": 16,
   "id": "9d7099cf-b8d8-4546-9bda-f67c8501d0ad",
   "metadata": {},
   "outputs": [],
   "source": [
    "# for epoch in range(30):\n",
    "#     print(f\"Training epoch {epoch} ...\")\n",
    "\n",
    "#     running_loss = 0.0\n",
    "\n",
    "#     for i, data in enumerate(train_loader):\n",
    "#         inputs, labels = data\n",
    "\n",
    "#         optimizer.zero_grad()\n",
    "\n",
    "#         outputs = net(inputs)\n",
    "\n",
    "#         loss = loos_founction(outputs, labels)\n",
    "#         loss.backward()\n",
    "#         optimizer.step() \n",
    "\n",
    "#         running_loss += loss.item()\n",
    "\n",
    "#     print(f\"Loss: {running_loss / len(train_loader):.4f}\")"
   ]
  },
  {
   "cell_type": "code",
   "execution_count": 17,
   "id": "0c710c4f-d66e-410e-85c0-e136b35b70f4",
   "metadata": {},
   "outputs": [],
   "source": [
    "# torch.save(net.state_dict(), \"torch_trained_net_model.pth\")"
   ]
  },
  {
   "cell_type": "code",
   "execution_count": 18,
   "id": "a2703df9-f54e-4646-919c-d3581fbe35d7",
   "metadata": {},
   "outputs": [
    {
     "data": {
      "text/plain": [
       "<All keys matched successfully>"
      ]
     },
     "execution_count": 18,
     "metadata": {},
     "output_type": "execute_result"
    }
   ],
   "source": [
    "net = NeuralNet()\n",
    "net.load_state_dict(torch.load(\"torch_trained_net_model.pth\"))"
   ]
  },
  {
   "cell_type": "code",
   "execution_count": 19,
   "id": "5ac90d89-e5a2-4295-8cf2-81030a343e25",
   "metadata": {},
   "outputs": [
    {
     "name": "stdout",
     "output_type": "stream",
     "text": [
      "Accuracy: 69.4%\n"
     ]
    }
   ],
   "source": [
    "correct = 0\n",
    "total = 0\n",
    "\n",
    "net.eval()\n",
    "\n",
    "with torch.no_grad():\n",
    "    for data in test_loader:\n",
    "        images, labels = data\n",
    "        outputs = net(images)\n",
    "        _, predicted = torch.max(outputs, 1)\n",
    "        total += labels.size(0)\n",
    "        correct += (predicted == labels).sum().item()\n",
    "\n",
    "accuracy = 100 * correct / total\n",
    "print(f\"Accuracy: {accuracy}%\")"
   ]
  },
  {
   "cell_type": "markdown",
   "id": "8ca2ff9c-451e-442b-91ed-1c0f02a4e0a8",
   "metadata": {},
   "source": [
    "If it has 2 different classes 69.4% is not so good, but we now have 10 classes it quit good."
   ]
  },
  {
   "cell_type": "code",
   "execution_count": 28,
   "id": "1bed1a3c-213c-44cf-8b7f-58733a51132b",
   "metadata": {},
   "outputs": [
    {
     "name": "stdout",
     "output_type": "stream",
     "text": [
      "Prediction: bird\n",
      "Prediction: ship\n",
      "Prediction: horse\n"
     ]
    }
   ],
   "source": [
    "new_transform = transforms.Compose([\n",
    "    transforms.Resize((32,32)),\n",
    "    transforms.ToTensor(),\n",
    "    transforms.Normalize((0.5, 0.5, 0.5), (0.5, 0.5, 0.5))\n",
    "])\n",
    "\n",
    "def load_image(image_path):\n",
    "    image = Image.open(image_path)\n",
    "    image = new_transform(image)\n",
    "    image = image.unsqueeze(0)\n",
    "    return image\n",
    "\n",
    "# Note png is 4 channels, jpg is 3 channels.\n",
    "image_paths = [\"example3.jpg\", \"example2.jpg\", \"example.jpg\"]\n",
    "images = [load_image(img) for img in image_paths]\n",
    "\n",
    "net.eval()\n",
    "with torch.no_grad():\n",
    "    for image in images:\n",
    "        output = net(image)\n",
    "        _, predicted = torch.max(output, 1)\n",
    "        print(f\"Prediction: {class_names[predicted.item()]}\")\n",
    "        "
   ]
  },
  {
   "cell_type": "code",
   "execution_count": null,
   "id": "29e9473b-fce0-420f-b239-ae06ccc505df",
   "metadata": {},
   "outputs": [],
   "source": []
  }
 ],
 "metadata": {
  "kernelspec": {
   "display_name": "Python 3 (ipykernel)",
   "language": "python",
   "name": "python3"
  },
  "language_info": {
   "codemirror_mode": {
    "name": "ipython",
    "version": 3
   },
   "file_extension": ".py",
   "mimetype": "text/x-python",
   "name": "python",
   "nbconvert_exporter": "python",
   "pygments_lexer": "ipython3",
   "version": "3.10.16"
  }
 },
 "nbformat": 4,
 "nbformat_minor": 5
}
